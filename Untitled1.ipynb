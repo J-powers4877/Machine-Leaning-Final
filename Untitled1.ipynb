{
 "cells": [
  {
   "cell_type": "code",
   "execution_count": 19,
   "metadata": {},
   "outputs": [],
   "source": [
    "# Import the dependencies\n",
    "import matplotlib.pyplot as plt\n",
    "import seaborn as sns\n",
    "import pandas as pd\n",
    "from sklearn.linear_model import LogisticRegression\n",
    "from sklearn.metrics import classification_report\n",
    "from sklearn.metrics import accuracy_score\n",
    "from sklearn.model_selection import train_test_split"
   ]
  },
  {
   "cell_type": "code",
   "execution_count": 20,
   "metadata": {},
   "outputs": [],
   "source": [
    "data = pd.read_csv('injury-training.csv')"
   ]
  },
  {
   "cell_type": "code",
   "execution_count": 21,
   "metadata": {},
   "outputs": [
    {
     "data": {
      "text/html": [
       "<div>\n",
       "<style scoped>\n",
       "    .dataframe tbody tr th:only-of-type {\n",
       "        vertical-align: middle;\n",
       "    }\n",
       "\n",
       "    .dataframe tbody tr th {\n",
       "        vertical-align: top;\n",
       "    }\n",
       "\n",
       "    .dataframe thead th {\n",
       "        text-align: right;\n",
       "    }\n",
       "</style>\n",
       "<table border=\"1\" class=\"dataframe\">\n",
       "  <thead>\n",
       "    <tr style=\"text-align: right;\">\n",
       "      <th></th>\n",
       "      <th>ID</th>\n",
       "      <th>Player</th>\n",
       "      <th>Position</th>\n",
       "      <th>Age</th>\n",
       "      <th>Height</th>\n",
       "      <th>Weight</th>\n",
       "      <th>Team</th>\n",
       "      <th>Against</th>\n",
       "      <th>Injury</th>\n",
       "      <th>Concussion</th>\n",
       "      <th>Home_Away</th>\n",
       "      <th>Games_Missed</th>\n",
       "      <th>Week of Injury</th>\n",
       "      <th>Season</th>\n",
       "    </tr>\n",
       "  </thead>\n",
       "  <tbody>\n",
       "    <tr>\n",
       "      <td>0</td>\n",
       "      <td>1</td>\n",
       "      <td>Aldrick Robinson</td>\n",
       "      <td>WR</td>\n",
       "      <td>24</td>\n",
       "      <td>73</td>\n",
       "      <td>190</td>\n",
       "      <td>Wsh</td>\n",
       "      <td>TB</td>\n",
       "      <td>Head</td>\n",
       "      <td>0</td>\n",
       "      <td>1</td>\n",
       "      <td>1</td>\n",
       "      <td>4</td>\n",
       "      <td>2012/2013</td>\n",
       "    </tr>\n",
       "    <tr>\n",
       "      <td>1</td>\n",
       "      <td>2</td>\n",
       "      <td>D.J. Fluker</td>\n",
       "      <td>OL</td>\n",
       "      <td>23</td>\n",
       "      <td>77</td>\n",
       "      <td>339</td>\n",
       "      <td>LAC</td>\n",
       "      <td>Ten</td>\n",
       "      <td>Concussion</td>\n",
       "      <td>1</td>\n",
       "      <td>1</td>\n",
       "      <td>1</td>\n",
       "      <td>3</td>\n",
       "      <td>2013/2014</td>\n",
       "    </tr>\n",
       "    <tr>\n",
       "      <td>2</td>\n",
       "      <td>3</td>\n",
       "      <td>Marquise Goodwin</td>\n",
       "      <td>WR</td>\n",
       "      <td>24</td>\n",
       "      <td>69</td>\n",
       "      <td>183</td>\n",
       "      <td>Buf</td>\n",
       "      <td>Hou</td>\n",
       "      <td>Concussion</td>\n",
       "      <td>1</td>\n",
       "      <td>1</td>\n",
       "      <td>1</td>\n",
       "      <td>4</td>\n",
       "      <td>2014/2015</td>\n",
       "    </tr>\n",
       "    <tr>\n",
       "      <td>3</td>\n",
       "      <td>4</td>\n",
       "      <td>Bryan Stork</td>\n",
       "      <td>OL</td>\n",
       "      <td>24</td>\n",
       "      <td>76</td>\n",
       "      <td>315</td>\n",
       "      <td>NE</td>\n",
       "      <td>Buf</td>\n",
       "      <td>Head</td>\n",
       "      <td>0</td>\n",
       "      <td>1</td>\n",
       "      <td>1</td>\n",
       "      <td>6</td>\n",
       "      <td>2014/2015</td>\n",
       "    </tr>\n",
       "    <tr>\n",
       "      <td>4</td>\n",
       "      <td>5</td>\n",
       "      <td>Lorenzo Booker</td>\n",
       "      <td>RB</td>\n",
       "      <td>31</td>\n",
       "      <td>70</td>\n",
       "      <td>201</td>\n",
       "      <td>Chi</td>\n",
       "      <td>Ind</td>\n",
       "      <td>Head</td>\n",
       "      <td>0</td>\n",
       "      <td>0</td>\n",
       "      <td>0</td>\n",
       "      <td>1</td>\n",
       "      <td>2012/2013</td>\n",
       "    </tr>\n",
       "  </tbody>\n",
       "</table>\n",
       "</div>"
      ],
      "text/plain": [
       "   ID            Player Position  Age  Height   Weight Team Against  \\\n",
       "0   1  Aldrick Robinson       WR   24       73     190  Wsh      TB   \n",
       "1   2       D.J. Fluker       OL   23       77     339  LAC     Ten   \n",
       "2   3  Marquise Goodwin       WR   24       69     183  Buf     Hou   \n",
       "3   4       Bryan Stork       OL   24       76     315   NE     Buf   \n",
       "4   5    Lorenzo Booker       RB   31       70     201  Chi     Ind   \n",
       "\n",
       "       Injury  Concussion  Home_Away  Games_Missed  Week of Injury     Season  \n",
       "0        Head           0          1             1               4  2012/2013  \n",
       "1  Concussion           1          1             1               3  2013/2014  \n",
       "2  Concussion           1          1             1               4  2014/2015  \n",
       "3        Head           0          1             1               6  2014/2015  \n",
       "4        Head           0          0             0               1  2012/2013  "
      ]
     },
     "execution_count": 21,
     "metadata": {},
     "output_type": "execute_result"
    }
   ],
   "source": [
    "data.head()"
   ]
  },
  {
   "cell_type": "code",
   "execution_count": 10,
   "metadata": {},
   "outputs": [],
   "source": [
    "x_train, x_test, y_train, y_test = train_test_split(x, y, random_state=1)"
   ]
  },
  {
   "cell_type": "code",
   "execution_count": 11,
   "metadata": {},
   "outputs": [
    {
     "name": "stderr",
     "output_type": "stream",
     "text": [
      "C:\\Users\\justi\\Anaconda3\\lib\\site-packages\\sklearn\\linear_model\\logistic.py:432: FutureWarning: Default solver will be changed to 'lbfgs' in 0.22. Specify a solver to silence this warning.\n",
      "  FutureWarning)\n"
     ]
    },
    {
     "data": {
      "text/plain": [
       "LogisticRegression(C=1.0, class_weight=None, dual=False, fit_intercept=True,\n",
       "                   intercept_scaling=1, l1_ratio=None, max_iter=100,\n",
       "                   multi_class='warn', n_jobs=None, penalty='l2',\n",
       "                   random_state=None, solver='warn', tol=0.0001, verbose=0,\n",
       "                   warm_start=False)"
      ]
     },
     "execution_count": 11,
     "metadata": {},
     "output_type": "execute_result"
    }
   ],
   "source": [
    "lr = LogisticRegression()\n",
    "lr.fit(x_train, y_train)"
   ]
  },
  {
   "cell_type": "code",
   "execution_count": 12,
   "metadata": {},
   "outputs": [
    {
     "name": "stdout",
     "output_type": "stream",
     "text": [
      "[[2.11663276]]\n",
      "[-0.30775957]\n"
     ]
    }
   ],
   "source": [
    "print(lr.coef_)\n",
    "print(lr.intercept_)"
   ]
  },
  {
   "cell_type": "code",
   "execution_count": 13,
   "metadata": {},
   "outputs": [],
   "source": [
    "y_pred = lr.predict(x_test)"
   ]
  },
  {
   "cell_type": "code",
   "execution_count": 14,
   "metadata": {},
   "outputs": [
    {
     "data": {
      "text/plain": [
       "array([[ 9,  3],\n",
       "       [ 0, 13]], dtype=int64)"
      ]
     },
     "execution_count": 14,
     "metadata": {},
     "output_type": "execute_result"
    }
   ],
   "source": [
    "confusion_matrix(y_test, y_pred)"
   ]
  },
  {
   "cell_type": "code",
   "execution_count": 15,
   "metadata": {},
   "outputs": [
    {
     "data": {
      "text/plain": [
       "array([[0.1946637 , 0.8053363 ],\n",
       "       [0.99465003, 0.00534997],\n",
       "       [0.8985802 , 0.1014198 ],\n",
       "       [0.09409463, 0.90590537],\n",
       "       [0.88523214, 0.11476786],\n",
       "       [0.10531553, 0.89468447],\n",
       "       [0.18843297, 0.81156703],\n",
       "       [0.87313892, 0.12686108],\n",
       "       [0.99327778, 0.00672222],\n",
       "       [0.57046354, 0.42953646],\n",
       "       [0.06240721, 0.93759279],\n",
       "       [0.97611074, 0.02388926],\n",
       "       [0.44449152, 0.55550848],\n",
       "       [0.89426077, 0.10573923],\n",
       "       [0.10882487, 0.89117513],\n",
       "       [0.119163  , 0.880837  ],\n",
       "       [0.20635147, 0.79364853],\n",
       "       [0.08862853, 0.91137147],\n",
       "       [0.03449236, 0.96550764],\n",
       "       [0.23316302, 0.76683698],\n",
       "       [0.06515889, 0.93484111],\n",
       "       [0.13690493, 0.86309507],\n",
       "       [0.15068535, 0.84931465],\n",
       "       [0.98595329, 0.01404671],\n",
       "       [0.09334049, 0.90665951]])"
      ]
     },
     "execution_count": 15,
     "metadata": {},
     "output_type": "execute_result"
    }
   ],
   "source": [
    "lr.predict_proba(x_test)"
   ]
  },
  {
   "cell_type": "code",
   "execution_count": 16,
   "metadata": {},
   "outputs": [
    {
     "data": {
      "text/plain": [
       "<matplotlib.collections.PathCollection at 0x22050fce4c8>"
      ]
     },
     "execution_count": 16,
     "metadata": {},
     "output_type": "execute_result"
    },
    {
     "data": {
      "image/png": "[encoded data removed]",
      "text/plain": [
       "<Figure size 432x288 with 1 Axes>"
      ]
     },
     "metadata": {},
     "output_type": "display_data"
    }
   ],
   "source": [
    "df = pd.DataFrame({'x': x_test[:,0], 'y': y_test})\n",
    "df = df.sort_values(by='x')\n",
    "from scipy.special import expit\n",
    "sigmoid_function = expit(df['x'] * lr.coef_[0][0] + lr.intercept_[0]).ravel()\n",
    "plt.plot(df['x'], sigmoid_function)\n",
    "plt.scatter(df['x'], df['y'], c=df['y'], cmap='rainbow', edgecolors='b')"
   ]
  },
  {
   "cell_type": "code",
   "execution_count": null,
   "metadata": {},
   "outputs": [],
   "source": []
  }
 ],
 "metadata": {
  "kernelspec": {
   "display_name": "Python 3",
   "language": "python",
   "name": "python3"
  },
  "language_info": {
   "codemirror_mode": {
    "name": "ipython",
    "version": 3
   },
   "file_extension": ".py",
   "mimetype": "text/x-python",
   "name": "python",
   "nbconvert_exporter": "python",
   "pygments_lexer": "ipython3",
   "version": "3.7.4"
  }
 },
 "nbformat": 4,
 "nbformat_minor": 2
}
